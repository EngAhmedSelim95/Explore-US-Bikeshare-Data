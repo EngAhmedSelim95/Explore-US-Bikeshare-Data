{
 "cells": [
  {
   "cell_type": "markdown",
   "id": "4ae3dae3",
   "metadata": {},
   "source": [
    "> **Tip:** in this report we will invetigate a data set for 10,000 movies which including the user rating and revenue."
   ]
  },
  {
   "cell_type": "markdown",
   "id": "40ec94f7",
   "metadata": {},
   "source": [
    "# Project: Tmdb Movie Data\n",
    "## Table Of Content:\n",
    "<ul>\n",
    "    <li><a href = \"#intro\">Introduction</a> </li>\n",
    "    <li><a href = \"#wrangling\">Data Wrangling</a> </li>\n",
    "    <li><a href = \"#eda\">EDA</a> </li>\n",
    "    <li><a href = \"#conclusions\">Conclusions</a> </li>\n",
    "\n",
    "</ul>"
   ]
  },
  {
   "cell_type": "markdown",
   "id": "c9bc4836",
   "metadata": {},
   "source": [
    "<a id='intro'></a>\n",
    "# Introduction\n",
    "- *welcome in this project we will try to use the different methods used in data analysis process and also the different packages*"
   ]
  },
  {
   "cell_type": "markdown",
   "id": "ff491255",
   "metadata": {},
   "source": [
    "### Questions\n",
    "1. Which year has the highest release of movies?\n",
    "2. Which Genre Has The Highest Release Of Movies?\n",
    "3. Which genres are most popular from year to year?\n",
    "4. Which movie made the highest revenue and lowest as well?\n",
    "5. Which length movies most liked by the audiences according to their popularity?\n",
    "6. How Does Popularity Depends On Profit?"
   ]
  },
  {
   "cell_type": "code",
   "execution_count": 67,
   "id": "7b309593",
   "metadata": {},
   "outputs": [],
   "source": [
    "import pandas as pd\n",
    "import numpy as np\n",
    "import matplotlib.pyplot as plt\n",
    "import seaborn as sns\n",
    "%matplotlib inline"
   ]
  },
  {
   "cell_type": "code",
   "execution_count": 68,
   "id": "72a52d1c",
   "metadata": {},
   "outputs": [],
   "source": [
    "df = pd.read_csv(\"tmdb-movies.csv\")"
   ]
  },
  {
   "cell_type": "code",
   "execution_count": 69,
   "id": "f15d5a7a",
   "metadata": {},
   "outputs": [],
   "source": [
    "df_cleaned = df.copy()"
   ]
  },
  {
   "cell_type": "markdown",
   "id": "f5c26f82",
   "metadata": {},
   "source": [
    "<a id='wrangling'></a>\n",
    "# Data Wrangling\n",
    "\n"
   ]
  },
  {
   "cell_type": "markdown",
   "id": "de53bc52",
   "metadata": {},
   "source": [
    "## Data Cleaning"
   ]
  },
  {
   "cell_type": "markdown",
   "id": "44f5533d",
   "metadata": {},
   "source": [
    "### Define\n",
    "- Release Year column Type is object so i need to convert it to date time"
   ]
  },
  {
   "cell_type": "markdown",
   "id": "37b02a4d",
   "metadata": {},
   "source": [
    "### Code\n"
   ]
  },
  {
   "cell_type": "code",
   "execution_count": 70,
   "id": "328bcd76",
   "metadata": {},
   "outputs": [],
   "source": [
    "df_cleaned[\"release_date\"] = pd.to_datetime(df_cleaned[\"release_date\"])"
   ]
  },
  {
   "cell_type": "markdown",
   "id": "7f7bcc36",
   "metadata": {},
   "source": [
    "### Test\n"
   ]
  },
  {
   "cell_type": "code",
   "execution_count": 71,
   "id": "24ff01e6",
   "metadata": {},
   "outputs": [
    {
     "data": {
      "text/plain": [
       "0       2015-06-09\n",
       "1       2015-05-13\n",
       "2       2015-03-18\n",
       "3       2015-12-15\n",
       "4       2015-04-01\n",
       "           ...    \n",
       "10861   2066-06-15\n",
       "10862   2066-12-21\n",
       "10863   2066-01-01\n",
       "10864   2066-11-02\n",
       "10865   2066-11-15\n",
       "Name: release_date, Length: 10866, dtype: datetime64[ns]"
      ]
     },
     "execution_count": 71,
     "metadata": {},
     "output_type": "execute_result"
    }
   ],
   "source": [
    "df_cleaned[\"release_date\"]"
   ]
  },
  {
   "cell_type": "markdown",
   "id": "c2348565",
   "metadata": {},
   "source": [
    "### Define\n",
    "- i think some columns are not necessary in my anlaysis so i will remove them like (imdb_id,overview,keywords)"
   ]
  },
  {
   "cell_type": "markdown",
   "id": "620843d9",
   "metadata": {},
   "source": [
    "### Code"
   ]
  },
  {
   "cell_type": "code",
   "execution_count": 72,
   "id": "da58c317",
   "metadata": {},
   "outputs": [],
   "source": [
    "df_cleaned.drop([\"imdb_id\",\"overview\",\"keywords\"], axis = 1, inplace = True)"
   ]
  },
  {
   "cell_type": "markdown",
   "id": "acf69936",
   "metadata": {},
   "source": [
    "### Test"
   ]
  },
  {
   "cell_type": "code",
   "execution_count": 73,
   "id": "08157c1f",
   "metadata": {},
   "outputs": [
    {
     "name": "stdout",
     "output_type": "stream",
     "text": [
      "<class 'pandas.core.frame.DataFrame'>\n",
      "RangeIndex: 10866 entries, 0 to 10865\n",
      "Data columns (total 18 columns):\n",
      " #   Column                Non-Null Count  Dtype         \n",
      "---  ------                --------------  -----         \n",
      " 0   id                    10866 non-null  int64         \n",
      " 1   popularity            10866 non-null  float64       \n",
      " 2   budget                10866 non-null  int64         \n",
      " 3   revenue               10866 non-null  int64         \n",
      " 4   original_title        10866 non-null  object        \n",
      " 5   cast                  10790 non-null  object        \n",
      " 6   homepage              2936 non-null   object        \n",
      " 7   director              10822 non-null  object        \n",
      " 8   tagline               8042 non-null   object        \n",
      " 9   runtime               10866 non-null  int64         \n",
      " 10  genres                10843 non-null  object        \n",
      " 11  production_companies  9836 non-null   object        \n",
      " 12  release_date          10866 non-null  datetime64[ns]\n",
      " 13  vote_count            10866 non-null  int64         \n",
      " 14  vote_average          10866 non-null  float64       \n",
      " 15  release_year          10866 non-null  int64         \n",
      " 16  budget_adj            10866 non-null  float64       \n",
      " 17  revenue_adj           10866 non-null  float64       \n",
      "dtypes: datetime64[ns](1), float64(4), int64(6), object(7)\n",
      "memory usage: 1.5+ MB\n"
     ]
    }
   ],
   "source": [
    "df_cleaned.info()"
   ]
  },
  {
   "cell_type": "markdown",
   "id": "b1431183",
   "metadata": {},
   "source": [
    "### Define\n",
    "- find and remove the duplicates in the dataframe"
   ]
  },
  {
   "cell_type": "markdown",
   "id": "a8bd9dc1",
   "metadata": {},
   "source": [
    "### Code"
   ]
  },
  {
   "cell_type": "code",
   "execution_count": 74,
   "id": "8f99c3ed",
   "metadata": {},
   "outputs": [
    {
     "data": {
      "text/plain": [
       "1"
      ]
     },
     "execution_count": 74,
     "metadata": {},
     "output_type": "execute_result"
    }
   ],
   "source": [
    "sum(df_cleaned.duplicated())"
   ]
  },
  {
   "cell_type": "code",
   "execution_count": 75,
   "id": "3c76762c",
   "metadata": {},
   "outputs": [],
   "source": [
    "df_cleaned.drop_duplicates(inplace =True)"
   ]
  },
  {
   "cell_type": "markdown",
   "id": "e0f5a5f6",
   "metadata": {},
   "source": [
    "### Test"
   ]
  },
  {
   "cell_type": "code",
   "execution_count": 76,
   "id": "58dc700e",
   "metadata": {},
   "outputs": [
    {
     "data": {
      "text/plain": [
       "0"
      ]
     },
     "execution_count": 76,
     "metadata": {},
     "output_type": "execute_result"
    }
   ],
   "source": [
    "sum(df_cleaned.duplicated())"
   ]
  },
  {
   "cell_type": "markdown",
   "id": "2b7a5b50",
   "metadata": {},
   "source": [
    "### Define\n",
    "- i found that columns revenue and budget contain a lot of 0 values and also the column homepage contain alot of NaN values so i will drop these columns also beside the tagline coumn"
   ]
  },
  {
   "cell_type": "markdown",
   "id": "d4a23f2b",
   "metadata": {},
   "source": [
    "### Code"
   ]
  },
  {
   "cell_type": "code",
   "execution_count": 77,
   "id": "5c432580",
   "metadata": {},
   "outputs": [],
   "source": [
    "df_cleaned.drop(['budget','revenue','homepage','tagline'],axis = 1, inplace = True)"
   ]
  },
  {
   "cell_type": "code",
   "execution_count": 78,
   "id": "3859fe8d",
   "metadata": {},
   "outputs": [
    {
     "name": "stdout",
     "output_type": "stream",
     "text": [
      "<class 'pandas.core.frame.DataFrame'>\n",
      "Int64Index: 10865 entries, 0 to 10865\n",
      "Data columns (total 14 columns):\n",
      " #   Column                Non-Null Count  Dtype         \n",
      "---  ------                --------------  -----         \n",
      " 0   id                    10865 non-null  int64         \n",
      " 1   popularity            10865 non-null  float64       \n",
      " 2   original_title        10865 non-null  object        \n",
      " 3   cast                  10789 non-null  object        \n",
      " 4   director              10821 non-null  object        \n",
      " 5   runtime               10865 non-null  int64         \n",
      " 6   genres                10842 non-null  object        \n",
      " 7   production_companies  9835 non-null   object        \n",
      " 8   release_date          10865 non-null  datetime64[ns]\n",
      " 9   vote_count            10865 non-null  int64         \n",
      " 10  vote_average          10865 non-null  float64       \n",
      " 11  release_year          10865 non-null  int64         \n",
      " 12  budget_adj            10865 non-null  float64       \n",
      " 13  revenue_adj           10865 non-null  float64       \n",
      "dtypes: datetime64[ns](1), float64(4), int64(4), object(5)\n",
      "memory usage: 1.2+ MB\n"
     ]
    }
   ],
   "source": [
    "df_cleaned.info()"
   ]
  },
  {
   "cell_type": "markdown",
   "id": "40ba7b69",
   "metadata": {},
   "source": [
    "### Define\n",
    "- Find the rows with empty values and drop them"
   ]
  },
  {
   "cell_type": "markdown",
   "id": "dd8bbe1a",
   "metadata": {},
   "source": [
    "### Code"
   ]
  },
  {
   "cell_type": "code",
   "execution_count": 79,
   "id": "044e3c00",
   "metadata": {},
   "outputs": [
    {
     "data": {
      "text/plain": [
       "id                         0\n",
       "popularity                 0\n",
       "original_title             0\n",
       "cast                      76\n",
       "director                  44\n",
       "runtime                    0\n",
       "genres                    23\n",
       "production_companies    1030\n",
       "release_date               0\n",
       "vote_count                 0\n",
       "vote_average               0\n",
       "release_year               0\n",
       "budget_adj                 0\n",
       "revenue_adj                0\n",
       "dtype: int64"
      ]
     },
     "execution_count": 79,
     "metadata": {},
     "output_type": "execute_result"
    }
   ],
   "source": [
    "df_cleaned.isna().sum()"
   ]
  },
  {
   "cell_type": "code",
   "execution_count": 80,
   "id": "8395438e",
   "metadata": {},
   "outputs": [],
   "source": [
    "df_cleaned.dropna(inplace = True)"
   ]
  },
  {
   "cell_type": "markdown",
   "id": "48a5ac36",
   "metadata": {},
   "source": [
    "### Test"
   ]
  },
  {
   "cell_type": "code",
   "execution_count": 81,
   "id": "3d159458",
   "metadata": {},
   "outputs": [
    {
     "data": {
      "text/plain": [
       "id                      0\n",
       "popularity              0\n",
       "original_title          0\n",
       "cast                    0\n",
       "director                0\n",
       "runtime                 0\n",
       "genres                  0\n",
       "production_companies    0\n",
       "release_date            0\n",
       "vote_count              0\n",
       "vote_average            0\n",
       "release_year            0\n",
       "budget_adj              0\n",
       "revenue_adj             0\n",
       "dtype: int64"
      ]
     },
     "execution_count": 81,
     "metadata": {},
     "output_type": "execute_result"
    }
   ],
   "source": [
    "df_cleaned.isna().sum()"
   ]
  },
  {
   "cell_type": "markdown",
   "id": "6e06b83b",
   "metadata": {},
   "source": [
    "### Define\n",
    "- add the profit column which equal to revenue - budget"
   ]
  },
  {
   "cell_type": "markdown",
   "id": "5b318c9b",
   "metadata": {},
   "source": [
    "### Code"
   ]
  },
  {
   "cell_type": "code",
   "execution_count": 82,
   "id": "615abc33",
   "metadata": {},
   "outputs": [],
   "source": [
    "df_cleaned[\"profit\"] = df_cleaned[\"revenue_adj\"] - df_cleaned[\"budget_adj\"]"
   ]
  },
  {
   "cell_type": "markdown",
   "id": "5b42d11d",
   "metadata": {},
   "source": [
    "### Test"
   ]
  },
  {
   "cell_type": "code",
   "execution_count": 83,
   "id": "3bcbe38b",
   "metadata": {},
   "outputs": [
    {
     "name": "stdout",
     "output_type": "stream",
     "text": [
      "<class 'pandas.core.frame.DataFrame'>\n",
      "Int64Index: 9772 entries, 0 to 10865\n",
      "Data columns (total 15 columns):\n",
      " #   Column                Non-Null Count  Dtype         \n",
      "---  ------                --------------  -----         \n",
      " 0   id                    9772 non-null   int64         \n",
      " 1   popularity            9772 non-null   float64       \n",
      " 2   original_title        9772 non-null   object        \n",
      " 3   cast                  9772 non-null   object        \n",
      " 4   director              9772 non-null   object        \n",
      " 5   runtime               9772 non-null   int64         \n",
      " 6   genres                9772 non-null   object        \n",
      " 7   production_companies  9772 non-null   object        \n",
      " 8   release_date          9772 non-null   datetime64[ns]\n",
      " 9   vote_count            9772 non-null   int64         \n",
      " 10  vote_average          9772 non-null   float64       \n",
      " 11  release_year          9772 non-null   int64         \n",
      " 12  budget_adj            9772 non-null   float64       \n",
      " 13  revenue_adj           9772 non-null   float64       \n",
      " 14  profit                9772 non-null   float64       \n",
      "dtypes: datetime64[ns](1), float64(5), int64(4), object(5)\n",
      "memory usage: 1.2+ MB\n"
     ]
    }
   ],
   "source": [
    "df_cleaned.info()"
   ]
  },
  {
   "cell_type": "markdown",
   "id": "40095c75",
   "metadata": {},
   "source": [
    "<a id='eda'></a>\n",
    "# EDA (Exploratory Data Analysis)\n",
    ">**Tip:** *in this part we will try to answer some questions within our data set*"
   ]
  },
  {
   "cell_type": "code",
   "execution_count": 84,
   "id": "f2b4b0f9",
   "metadata": {},
   "outputs": [
    {
     "data": {
      "text/html": [
       "<div>\n",
       "<style scoped>\n",
       "    .dataframe tbody tr th:only-of-type {\n",
       "        vertical-align: middle;\n",
       "    }\n",
       "\n",
       "    .dataframe tbody tr th {\n",
       "        vertical-align: top;\n",
       "    }\n",
       "\n",
       "    .dataframe thead th {\n",
       "        text-align: right;\n",
       "    }\n",
       "</style>\n",
       "<table border=\"1\" class=\"dataframe\">\n",
       "  <thead>\n",
       "    <tr style=\"text-align: right;\">\n",
       "      <th></th>\n",
       "      <th>id</th>\n",
       "      <th>popularity</th>\n",
       "      <th>runtime</th>\n",
       "      <th>vote_count</th>\n",
       "      <th>vote_average</th>\n",
       "      <th>release_year</th>\n",
       "      <th>budget_adj</th>\n",
       "      <th>revenue_adj</th>\n",
       "      <th>profit</th>\n",
       "    </tr>\n",
       "  </thead>\n",
       "  <tbody>\n",
       "    <tr>\n",
       "      <th>count</th>\n",
       "      <td>9772.000000</td>\n",
       "      <td>9772.000000</td>\n",
       "      <td>9772.000000</td>\n",
       "      <td>9772.000000</td>\n",
       "      <td>9772.000000</td>\n",
       "      <td>9772.000000</td>\n",
       "      <td>9.772000e+03</td>\n",
       "      <td>9.772000e+03</td>\n",
       "      <td>9.772000e+03</td>\n",
       "    </tr>\n",
       "    <tr>\n",
       "      <th>mean</th>\n",
       "      <td>63189.640810</td>\n",
       "      <td>0.694721</td>\n",
       "      <td>102.926627</td>\n",
       "      <td>239.312014</td>\n",
       "      <td>5.963528</td>\n",
       "      <td>2000.878428</td>\n",
       "      <td>1.941599e+07</td>\n",
       "      <td>5.705309e+07</td>\n",
       "      <td>3.763710e+07</td>\n",
       "    </tr>\n",
       "    <tr>\n",
       "      <th>std</th>\n",
       "      <td>90718.059987</td>\n",
       "      <td>1.036931</td>\n",
       "      <td>27.877432</td>\n",
       "      <td>603.011504</td>\n",
       "      <td>0.913174</td>\n",
       "      <td>13.036794</td>\n",
       "      <td>3.566634e+07</td>\n",
       "      <td>1.514499e+08</td>\n",
       "      <td>1.314756e+08</td>\n",
       "    </tr>\n",
       "    <tr>\n",
       "      <th>min</th>\n",
       "      <td>5.000000</td>\n",
       "      <td>0.000188</td>\n",
       "      <td>0.000000</td>\n",
       "      <td>10.000000</td>\n",
       "      <td>1.500000</td>\n",
       "      <td>1960.000000</td>\n",
       "      <td>0.000000e+00</td>\n",
       "      <td>0.000000e+00</td>\n",
       "      <td>-4.139124e+08</td>\n",
       "    </tr>\n",
       "    <tr>\n",
       "      <th>25%</th>\n",
       "      <td>10221.500000</td>\n",
       "      <td>0.232710</td>\n",
       "      <td>90.000000</td>\n",
       "      <td>18.000000</td>\n",
       "      <td>5.400000</td>\n",
       "      <td>1994.000000</td>\n",
       "      <td>0.000000e+00</td>\n",
       "      <td>0.000000e+00</td>\n",
       "      <td>0.000000e+00</td>\n",
       "    </tr>\n",
       "    <tr>\n",
       "      <th>50%</th>\n",
       "      <td>18677.500000</td>\n",
       "      <td>0.419762</td>\n",
       "      <td>100.000000</td>\n",
       "      <td>46.000000</td>\n",
       "      <td>6.000000</td>\n",
       "      <td>2005.000000</td>\n",
       "      <td>3.061342e+05</td>\n",
       "      <td>0.000000e+00</td>\n",
       "      <td>0.000000e+00</td>\n",
       "    </tr>\n",
       "    <tr>\n",
       "      <th>75%</th>\n",
       "      <td>70577.250000</td>\n",
       "      <td>0.776408</td>\n",
       "      <td>112.000000</td>\n",
       "      <td>173.000000</td>\n",
       "      <td>6.600000</td>\n",
       "      <td>2011.000000</td>\n",
       "      <td>2.464268e+07</td>\n",
       "      <td>4.311848e+07</td>\n",
       "      <td>2.029698e+07</td>\n",
       "    </tr>\n",
       "    <tr>\n",
       "      <th>max</th>\n",
       "      <td>417859.000000</td>\n",
       "      <td>32.985763</td>\n",
       "      <td>877.000000</td>\n",
       "      <td>9767.000000</td>\n",
       "      <td>8.700000</td>\n",
       "      <td>2015.000000</td>\n",
       "      <td>4.250000e+08</td>\n",
       "      <td>2.827124e+09</td>\n",
       "      <td>2.750137e+09</td>\n",
       "    </tr>\n",
       "  </tbody>\n",
       "</table>\n",
       "</div>"
      ],
      "text/plain": [
       "                  id   popularity      runtime   vote_count  vote_average  \\\n",
       "count    9772.000000  9772.000000  9772.000000  9772.000000   9772.000000   \n",
       "mean    63189.640810     0.694721   102.926627   239.312014      5.963528   \n",
       "std     90718.059987     1.036931    27.877432   603.011504      0.913174   \n",
       "min         5.000000     0.000188     0.000000    10.000000      1.500000   \n",
       "25%     10221.500000     0.232710    90.000000    18.000000      5.400000   \n",
       "50%     18677.500000     0.419762   100.000000    46.000000      6.000000   \n",
       "75%     70577.250000     0.776408   112.000000   173.000000      6.600000   \n",
       "max    417859.000000    32.985763   877.000000  9767.000000      8.700000   \n",
       "\n",
       "       release_year    budget_adj   revenue_adj        profit  \n",
       "count   9772.000000  9.772000e+03  9.772000e+03  9.772000e+03  \n",
       "mean    2000.878428  1.941599e+07  5.705309e+07  3.763710e+07  \n",
       "std       13.036794  3.566634e+07  1.514499e+08  1.314756e+08  \n",
       "min     1960.000000  0.000000e+00  0.000000e+00 -4.139124e+08  \n",
       "25%     1994.000000  0.000000e+00  0.000000e+00  0.000000e+00  \n",
       "50%     2005.000000  3.061342e+05  0.000000e+00  0.000000e+00  \n",
       "75%     2011.000000  2.464268e+07  4.311848e+07  2.029698e+07  \n",
       "max     2015.000000  4.250000e+08  2.827124e+09  2.750137e+09  "
      ]
     },
     "execution_count": 84,
     "metadata": {},
     "output_type": "execute_result"
    }
   ],
   "source": [
    "df_cleaned.describe()"
   ]
  },
  {
   "cell_type": "markdown",
   "id": "0db2947a",
   "metadata": {},
   "source": [
    "## Question1: (Which year has the highest release of movies?)\n",
    ">**Tipe:** we found that 2014 is the most year of movies Release"
   ]
  },
  {
   "cell_type": "code",
   "execution_count": 85,
   "id": "87144232",
   "metadata": {},
   "outputs": [],
   "source": [
    "highest_Release_year = df_cleaned.groupby('release_year').count()['id']"
   ]
  },
  {
   "cell_type": "code",
   "execution_count": 89,
   "id": "afa90296",
   "metadata": {
    "scrolled": true
   },
   "outputs": [
    {
     "data": {
      "image/png": "[encoded data removed]",
      "text/plain": [
       "<Figure size 1008x504 with 1 Axes>"
      ]
     },
     "metadata": {},
     "output_type": "display_data"
    }
   ],
   "source": [
    "highest_Release_year.plot(xticks = np.arange(1960,2016,5))\n",
    "\n",
    "sns.set(rc = {'figure.figsize': (12,7)})\n",
    "plt.title(\"Year VS Number Of Movies\", fontsize = 15)\n",
    "plt.xlabel(\"Release Year\", fontsize = 13)\n",
    "plt.ylabel(\"Number OfMovies\", fontsize = 13)\n",
    "\n",
    "sns.set_style(\"whitegrid\")\n"
   ]
  },
  {
   "cell_type": "markdown",
   "id": "e417175f",
   "metadata": {},
   "source": [
    "##### After Seeing the plot and the output we can conclude that year 2014 year has the highest release of movies (700) followed by year 2013 (659) and year 2015 (629)."
   ]
  },
  {
   "cell_type": "markdown",
   "id": "3e0b6b88",
   "metadata": {},
   "source": [
    "## Question2:(what is the most profit movie?)\n",
    ">**Tipe:** the most profit movie is \"Star Wars\"."
   ]
  },
  {
   "cell_type": "code",
   "execution_count": 90,
   "id": "9222c50e",
   "metadata": {},
   "outputs": [],
   "source": [
    "most_profit = df_cleaned[df_cleaned[\"profit\"] == df_cleaned[\"profit\"].max()]"
   ]
  },
  {
   "cell_type": "code",
   "execution_count": 91,
   "id": "23ed00ea",
   "metadata": {},
   "outputs": [
    {
     "data": {
      "text/html": [
       "<div>\n",
       "<style scoped>\n",
       "    .dataframe tbody tr th:only-of-type {\n",
       "        vertical-align: middle;\n",
       "    }\n",
       "\n",
       "    .dataframe tbody tr th {\n",
       "        vertical-align: top;\n",
       "    }\n",
       "\n",
       "    .dataframe thead th {\n",
       "        text-align: right;\n",
       "    }\n",
       "</style>\n",
       "<table border=\"1\" class=\"dataframe\">\n",
       "  <thead>\n",
       "    <tr style=\"text-align: right;\">\n",
       "      <th></th>\n",
       "      <th>id</th>\n",
       "      <th>popularity</th>\n",
       "      <th>original_title</th>\n",
       "      <th>cast</th>\n",
       "      <th>director</th>\n",
       "      <th>runtime</th>\n",
       "      <th>genres</th>\n",
       "      <th>production_companies</th>\n",
       "      <th>release_date</th>\n",
       "      <th>vote_count</th>\n",
       "      <th>vote_average</th>\n",
       "      <th>release_year</th>\n",
       "      <th>budget_adj</th>\n",
       "      <th>revenue_adj</th>\n",
       "      <th>profit</th>\n",
       "    </tr>\n",
       "  </thead>\n",
       "  <tbody>\n",
       "    <tr>\n",
       "      <th>1329</th>\n",
       "      <td>11</td>\n",
       "      <td>12.037933</td>\n",
       "      <td>Star Wars</td>\n",
       "      <td>Mark Hamill|Harrison Ford|Carrie Fisher|Peter ...</td>\n",
       "      <td>George Lucas</td>\n",
       "      <td>121</td>\n",
       "      <td>Adventure|Action|Science Fiction</td>\n",
       "      <td>Lucasfilm|Twentieth Century Fox Film Corporation</td>\n",
       "      <td>1977-03-20</td>\n",
       "      <td>4428</td>\n",
       "      <td>7.9</td>\n",
       "      <td>1977</td>\n",
       "      <td>3.957559e+07</td>\n",
       "      <td>2.789712e+09</td>\n",
       "      <td>2.750137e+09</td>\n",
       "    </tr>\n",
       "  </tbody>\n",
       "</table>\n",
       "</div>"
      ],
      "text/plain": [
       "      id  popularity original_title  \\\n",
       "1329  11   12.037933      Star Wars   \n",
       "\n",
       "                                                   cast      director  \\\n",
       "1329  Mark Hamill|Harrison Ford|Carrie Fisher|Peter ...  George Lucas   \n",
       "\n",
       "      runtime                            genres  \\\n",
       "1329      121  Adventure|Action|Science Fiction   \n",
       "\n",
       "                                  production_companies release_date  \\\n",
       "1329  Lucasfilm|Twentieth Century Fox Film Corporation   1977-03-20   \n",
       "\n",
       "      vote_count  vote_average  release_year    budget_adj   revenue_adj  \\\n",
       "1329        4428           7.9          1977  3.957559e+07  2.789712e+09   \n",
       "\n",
       "            profit  \n",
       "1329  2.750137e+09  "
      ]
     },
     "execution_count": 91,
     "metadata": {},
     "output_type": "execute_result"
    }
   ],
   "source": [
    "most_profit"
   ]
  },
  {
   "cell_type": "markdown",
   "id": "23cebeeb",
   "metadata": {},
   "source": [
    "## Question3: (what is the lowest profit movie?)\n",
    ">**Tip:** the lowest profit movie is \"The Warrior's Way\" which actually lose."
   ]
  },
  {
   "cell_type": "code",
   "execution_count": 92,
   "id": "80f15427",
   "metadata": {},
   "outputs": [],
   "source": [
    "lowest_profit = df_cleaned[df_cleaned[\"profit\"] == df_cleaned[\"profit\"].min()]"
   ]
  },
  {
   "cell_type": "code",
   "execution_count": 93,
   "id": "f5ac79f2",
   "metadata": {},
   "outputs": [
    {
     "data": {
      "text/html": [
       "<div>\n",
       "<style scoped>\n",
       "    .dataframe tbody tr th:only-of-type {\n",
       "        vertical-align: middle;\n",
       "    }\n",
       "\n",
       "    .dataframe tbody tr th {\n",
       "        vertical-align: top;\n",
       "    }\n",
       "\n",
       "    .dataframe thead th {\n",
       "        text-align: right;\n",
       "    }\n",
       "</style>\n",
       "<table border=\"1\" class=\"dataframe\">\n",
       "  <thead>\n",
       "    <tr style=\"text-align: right;\">\n",
       "      <th></th>\n",
       "      <th>id</th>\n",
       "      <th>popularity</th>\n",
       "      <th>original_title</th>\n",
       "      <th>cast</th>\n",
       "      <th>director</th>\n",
       "      <th>runtime</th>\n",
       "      <th>genres</th>\n",
       "      <th>production_companies</th>\n",
       "      <th>release_date</th>\n",
       "      <th>vote_count</th>\n",
       "      <th>vote_average</th>\n",
       "      <th>release_year</th>\n",
       "      <th>budget_adj</th>\n",
       "      <th>revenue_adj</th>\n",
       "      <th>profit</th>\n",
       "    </tr>\n",
       "  </thead>\n",
       "  <tbody>\n",
       "    <tr>\n",
       "      <th>2244</th>\n",
       "      <td>46528</td>\n",
       "      <td>0.25054</td>\n",
       "      <td>The Warrior's Way</td>\n",
       "      <td>Kate Bosworth|Jang Dong-gun|Geoffrey Rush|Dann...</td>\n",
       "      <td>Sngmoo Lee</td>\n",
       "      <td>100</td>\n",
       "      <td>Adventure|Fantasy|Action|Western|Thriller</td>\n",
       "      <td>Boram Entertainment Inc.</td>\n",
       "      <td>2010-12-02</td>\n",
       "      <td>74</td>\n",
       "      <td>6.4</td>\n",
       "      <td>2010</td>\n",
       "      <td>425000000.0</td>\n",
       "      <td>11087569.0</td>\n",
       "      <td>-413912431.0</td>\n",
       "    </tr>\n",
       "  </tbody>\n",
       "</table>\n",
       "</div>"
      ],
      "text/plain": [
       "         id  popularity     original_title  \\\n",
       "2244  46528     0.25054  The Warrior's Way   \n",
       "\n",
       "                                                   cast    director  runtime  \\\n",
       "2244  Kate Bosworth|Jang Dong-gun|Geoffrey Rush|Dann...  Sngmoo Lee      100   \n",
       "\n",
       "                                         genres      production_companies  \\\n",
       "2244  Adventure|Fantasy|Action|Western|Thriller  Boram Entertainment Inc.   \n",
       "\n",
       "     release_date  vote_count  vote_average  release_year   budget_adj  \\\n",
       "2244   2010-12-02          74           6.4          2010  425000000.0   \n",
       "\n",
       "      revenue_adj       profit  \n",
       "2244   11087569.0 -413912431.0  "
      ]
     },
     "execution_count": 93,
     "metadata": {},
     "output_type": "execute_result"
    }
   ],
   "source": [
    "lowest_profit"
   ]
  },
  {
   "cell_type": "markdown",
   "id": "7fd01489",
   "metadata": {},
   "source": [
    "## Question4: (Which Genre Has The Highest Release Of Movies?)\n",
    ">**Tipe:** We see that Drama Has the highest release of movies."
   ]
  },
  {
   "cell_type": "code",
   "execution_count": 94,
   "id": "d3e665e7",
   "metadata": {},
   "outputs": [],
   "source": [
    "def data(x):\n",
    "    data_plot = df_cleaned[x].str.cat(sep = '|')\n",
    "    data = pd.Series(data_plot.split('|'))\n",
    "    #conts each of the genre and return.\n",
    "    info = data.value_counts(ascending=False)\n",
    "    return info"
   ]
  },
  {
   "cell_type": "code",
   "execution_count": 95,
   "id": "ee0b7021",
   "metadata": {},
   "outputs": [
    {
     "name": "stdout",
     "output_type": "stream",
     "text": [
      "Drama              4364\n",
      "Comedy             3433\n",
      "Thriller           2746\n",
      "Action             2235\n",
      "Romance            1570\n",
      "Horror             1526\n",
      "Adventure          1384\n",
      "Crime              1299\n",
      "Science Fiction    1136\n",
      "Family             1095\n",
      "Fantasy             840\n",
      "Mystery             773\n",
      "Animation           617\n",
      "Music               339\n",
      "Documentary         317\n",
      "History             306\n",
      "War                 258\n",
      "Western             160\n",
      "TV Movie            132\n",
      "Foreign             120\n",
      "dtype: int64\n"
     ]
    }
   ],
   "source": [
    "total_genre_movies = data('genres')\n",
    "print(total_genre_movies)"
   ]
  },
  {
   "cell_type": "code",
   "execution_count": 96,
   "id": "3120a43d",
   "metadata": {},
   "outputs": [
    {
     "data": {
      "text/plain": [
       "Text(0, 0.5, 'Number Of Movies')"
      ]
     },
     "execution_count": 96,
     "metadata": {},
     "output_type": "execute_result"
    },
    {
     "data": {
      "image/png": "[encoded data removed]",
      "text/plain": [
       "<Figure size 936x648 with 1 Axes>"
      ]
     },
     "metadata": {},
     "output_type": "display_data"
    }
   ],
   "source": [
    "total_genre_movies.plot(kind= \"bar\",figsize= (13,9),fontsize = 13)\n",
    "plt.title(\"Genre With Highest Release\",fontsize=15)\n",
    "plt.xlabel('Genres',fontsize=13)\n",
    "plt.ylabel(\"Number Of Movies\",fontsize= 13)"
   ]
  },
  {
   "cell_type": "markdown",
   "id": "75343005",
   "metadata": {},
   "source": [
    "#### According to the plot Drama(4761) genre has the highest release of movies followed by Comedy(3793) and Thriller(2908)."
   ]
  },
  {
   "cell_type": "markdown",
   "id": "9bd6b6f5",
   "metadata": {},
   "source": [
    "## Question5: (Which length movies most liked by the audiences according to their popularity?)\n",
    ">**Tip:** we found that the movies in the range of 100-200 runtime are more popular than other runtime movies."
   ]
  },
  {
   "cell_type": "code",
   "execution_count": 97,
   "id": "02eba7a4",
   "metadata": {},
   "outputs": [
    {
     "data": {
      "image/png": "[encoded data removed]",
      "text/plain": [
       "<Figure size 936x360 with 1 Axes>"
      ]
     },
     "metadata": {},
     "output_type": "display_data"
    }
   ],
   "source": [
    "df_cleaned.groupby('runtime')['popularity'].mean().plot(figsize = (13,5),xticks=np.arange(0,1000,100))\n",
    "\n",
    "#setup the title of the figure\n",
    "plt.title(\"Runtime Vs Popularity\",fontsize = 14)\n",
    "plt.xlabel('Runtime',fontsize = 13)\n",
    "plt.ylabel('Average Popularity',fontsize = 13)\n",
    "#setup the figure size.\n",
    "sns.set(rc={'figure.figsize':(15,8)})\n",
    "sns.set_style(\"whitegrid\")"
   ]
  },
  {
   "cell_type": "markdown",
   "id": "05c43406",
   "metadata": {},
   "source": [
    "#### According to the plot we can say that movies in the range of 100-200 runtime are more popular than other runtime movies. Because it is boring to see the long duration movies."
   ]
  },
  {
   "cell_type": "markdown",
   "id": "db71217d",
   "metadata": {},
   "source": [
    "## Question6:(How Does Popularity Depends On Profit?)"
   ]
  },
  {
   "cell_type": "code",
   "execution_count": 98,
   "id": "527e7c6f",
   "metadata": {},
   "outputs": [
    {
     "name": "stdout",
     "output_type": "stream",
     "text": [
      "Correlation Between Popularity And Profit :  0.561496439758401\n"
     ]
    },
    {
     "data": {
      "image/png": "[encoded data removed]",
      "text/plain": [
       "<Figure size 1080x576 with 1 Axes>"
      ]
     },
     "metadata": {},
     "output_type": "display_data"
    }
   ],
   "source": [
    "\n",
    "\n",
    "ax = sns.regplot(x=df_cleaned['popularity'],y=df_cleaned['profit'],color='c')\n",
    "\n",
    "#setup the title and the labels of the scatter plot.\n",
    "ax.set_title(\"Popularity Vs Profit\",fontsize=13)\n",
    "ax.set_xlabel(\"Popularity\",fontsize=12)\n",
    "ax.set_ylabel(\"Profit\",fontsize=12)\n",
    "\n",
    "#setup the figure size.\n",
    "sns.set(rc={'figure.figsize':(9,5)})\n",
    "sns.set_style(\"whitegrid\")\n",
    "\n",
    "#find the correlation between them.\n",
    "data_corr = df_cleaned.corr()\n",
    "\n",
    "print(\"Correlation Between Popularity And Profit : \",data_corr.loc['popularity','profit'])"
   ]
  },
  {
   "cell_type": "markdown",
   "id": "e1576024",
   "metadata": {},
   "source": [
    "#### as we see Popularity and profit have positive correlation(0.61). It means that movie with high popularity tends to earn high profit."
   ]
  },
  {
   "cell_type": "markdown",
   "id": "99eeac39",
   "metadata": {},
   "source": [
    "# Conclusions"
   ]
  },
  {
   "cell_type": "markdown",
   "id": "7a4f75f9",
   "metadata": {},
   "source": [
    "1. year 2014 year has the highest release of movies (700) followed by year 2013 (659) and year 2015 (629).\n",
    "2. Drame, Comedy, Thriller and Action are four most-made genres.\n",
    "3. 'Star Wars' movie earn the highest profit in all in this dataset.And the most in loss movie in this dataset is The Warrior's Way.\n",
    "4. we can say that movies in the range of 100-200 runtime are more popular than other runtime movies. Because - it is boring to see the long duration movies.\n",
    "5. movie with high popularity tends to earn high profit."
   ]
  },
  {
   "cell_type": "markdown",
   "id": "1b1ee469",
   "metadata": {},
   "source": [
    "## Limitations:\n",
    "the budget and revenue column do not have currency unit, it might be possible different movies have budget in different currency according to the country they are produce in. So a disparity arises here which can state the complete analysis wrong. i want to Drop the rows with missing values but it will affecte the overall analysis.During the data cleaning process, I split the data seperated by '|' into lists for easy parsing during the exploration phase. This increases the time taken in calculating the result."
   ]
  }
 ],
 "metadata": {
  "kernelspec": {
   "display_name": "Python 3",
   "language": "python",
   "name": "python3"
  },
  "language_info": {
   "codemirror_mode": {
    "name": "ipython",
    "version": 3
   },
   "file_extension": ".py",
   "mimetype": "text/x-python",
   "name": "python",
   "nbconvert_exporter": "python",
   "pygments_lexer": "ipython3",
   "version": "3.8.8"
  }
 },
 "nbformat": 4,
 "nbformat_minor": 5
}
